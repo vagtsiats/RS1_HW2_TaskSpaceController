{
 "cells": [
  {
   "cell_type": "markdown",
   "metadata": {},
   "source": [
    "# Robotic Systems 1 - Homework 2"
   ]
  },
  {
   "cell_type": "code",
   "execution_count": null,
   "metadata": {},
   "outputs": [],
   "source": [
    "import numpy as np # Linear Algebra\n",
    "import pinocchio as pin # Pinocchio library\n",
    "import os\n",
    "import time\n",
    "import helpers as hp\n",
    "\n",
    "from pinocchio.robot_wrapper import RobotWrapper\n",
    "from pinocchio.visualize import MeshcatVisualizer\n",
    "\n",
    "VISUALIZER = MeshcatVisualizer"
   ]
  },
  {
   "cell_type": "code",
   "execution_count": null,
   "metadata": {},
   "outputs": [],
   "source": [
    "def load_franka():\n",
    "  current_path = os.path.abspath('') # where the folder `robot` is located at\n",
    "  robot_path = os.path.join(current_path, \"robot\")\n",
    "\n",
    "  robot = RobotWrapper.BuildFromURDF(os.path.join(robot_path, \"franka.urdf\"), package_dirs = robot_path)\n",
    "\n",
    "  return robot"
   ]
  },
  {
   "cell_type": "code",
   "execution_count": null,
   "metadata": {},
   "outputs": [],
   "source": [
    "def step_world(model, data, t_q, t_qdot, t_tau, t_dt):\n",
    "  \n",
    "  qdotdot = pin.aba(model, data, t_q, t_qdot, t_tau)\n",
    "  qdot = t_qdot + qdotdot*t_dt\n",
    "  qdot = np.clip(qdot, -model.velocityLimit, model.velocityLimit)\n",
    "  q = pin.integrate(model, t_q, qdot*t_dt)\n",
    "  q = np.clip(q, model.lowerPositionLimit, model.upperPositionLimit)\n",
    "  \n",
    "  return q, qdot"
   ]
  },
  {
   "cell_type": "code",
   "execution_count": null,
   "metadata": {},
   "outputs": [],
   "source": [
    "robot = load_franka()\n",
    "\n",
    "model = robot.model\n",
    "data = robot.data\n",
    "end_effector = model.getFrameId(\"panda_ee\")\n",
    "\n",
    "robot.setVisualizer(VISUALIZER())\n",
    "robot.initViewer()\n",
    "robot.loadViewerModel(\"pinocchio\")\n",
    "\n",
    "robot.display(pin.randomConfiguration(model))"
   ]
  },
  {
   "cell_type": "markdown",
   "metadata": {},
   "source": [
    "## Task-Space Trajectories\n",
    "\n",
    "I should implement 4 different profiles. I decided to do them in 4 different ways. So we have:\n",
    "- Screw Path\n",
    "- Decoupled trajectory\n",
    "- The above with third order polynomials for time scaling\n",
    "\n",
    "\n",
    "Questions:\n",
    "- orientation and translation error should be computed separately in the controller -> straight lines in the task space (not on the SO3 manifold) but what if the trajectory is computed on the manifold? (screw path(on the SO3 manifold) and decoupled rot and trans)"
   ]
  },
  {
   "cell_type": "code",
   "execution_count": null,
   "metadata": {},
   "outputs": [],
   "source": [
    "# def get_Twd(start, goal, t_t, T):\n",
    "#   return pin.SE3.Interpolate(start, goal, min(1, t_t/T))\n",
    "\n",
    "# def get_Twd(start, goal, t_t, T):\n",
    "#   Twd = pin.SE3.Interpolate(start, goal, min(1, t_t/T))\n",
    "#   Twd.translation = interpolate_translation(start.translation, goal.translation, min(1,t_t/T))\n",
    "#   return Twd\n",
    "\n",
    "def get_Twd(start, goal, t_t, T):\n",
    "  s = 3*(t_t/T)**2 -2*(t_t/T)**3\n",
    "  Twd = pin.SE3.Interpolate(start, goal, s)\n",
    "  Twd.translation = hp.interpolate_translation(start.translation, goal.translation, s)\n",
    "  return Twd\n",
    "\n",
    "# def get_Twd(start, goal, t_t, T):\n",
    "#   s = 3*(t_t/T)**2 -2*(t_t/T)**3\n",
    "#   # return pin.SE3.Interpolate(start, goal, min(1, time/T))\n",
    "#   return pin.SE3.Interpolate(start, goal, s)\n",
    "\n",
    "# def get_Twd(start, goal, t_t, T):\n",
    "#   s = 3*(t_t/T)**2 -2*(t_t/T)**3\n",
    "#   # return pin.SE3.Interpolate(start, goal, min(1, time/T))\n",
    "#   return pin.SE3.Interpolate(start, goal, s)"
   ]
  },
  {
   "cell_type": "markdown",
   "metadata": {},
   "source": [
    "## Task-Space Controller"
   ]
  },
  {
   "cell_type": "code",
   "execution_count": null,
   "metadata": {},
   "outputs": [],
   "source": [
    "def compute_error(Td, Tb):\n",
    "  error = pin.log(Td * pin.SE3.inverse(Tb))\n",
    "  error.linear = Td.translation - Tb.translation\n",
    "\n",
    "  return error.vector  "
   ]
  },
  {
   "cell_type": "code",
   "execution_count": null,
   "metadata": {},
   "outputs": [],
   "source": [
    "\n",
    "\n",
    "\n",
    "prev_error = None\n",
    "sum_error = 0.\n",
    "init = True\n",
    "\n",
    "\n",
    "\n",
    "def controller(model, data, t_q, t_Twd, t_dt, Kp=100., Ki=1000., Kd= 100.):\n",
    "    global prev_error\n",
    "    global sum_error\n",
    "    global init\n",
    "\n",
    "    M = pin.crba(model, data, t_q)\n",
    "\n",
    "    hp.fk_all(model, data, t_q)\n",
    "\n",
    "    T_wb = data.oMf[end_effector].copy()\n",
    "\n",
    "    error = compute_error(t_Twd, T_wb)\n",
    "\n",
    "    if init:\n",
    "        prev_error = np.copy(error)\n",
    "        init=False\n",
    "\n",
    "    sum_error += (error * t_dt)\n",
    "    \n",
    "    J = pin.computeFrameJacobian(model, data, t_q, end_effector, pin.ReferenceFrame.LOCAL_WORLD_ALIGNED)\n",
    "    # dJ = pin.computeFrameJacobianTimeVariation(model, data, t_q, end_effector, pin.ReferenceFrame.LOCAL_WORLD_ALIGNED)\n",
    "    J_Tpinv = hp.damped_pseudoinverse(J.T)\n",
    "\n",
    "\n",
    "    L = J_Tpinv @ M @ hp.damped_pseudoinverse(J)\n",
    "\n",
    "\n",
    "    F_w = L@(Kp*error + Ki*sum_error + Kd*(error-prev_error)/t_dt)\n",
    "    prev_error = np.copy(error)\n",
    "\n",
    "    #Null space controller - regularization\n",
    "    q_target = (model.upperPositionLimit - model.lowerPositionLimit) / 2. + model.lowerPositionLimit\n",
    "    t_reg = 100. * (q_target - t_q)\n",
    "    \n",
    "\n",
    "    tau = J.T @ F_w  + (np.eye(model.nv) - J.T @ J_Tpinv) @ t_reg\n",
    "\n",
    "\n",
    "    return tau\n",
    "  \n",
    "  "
   ]
  },
  {
   "cell_type": "markdown",
   "metadata": {},
   "source": [
    "## Simulation"
   ]
  },
  {
   "cell_type": "code",
   "execution_count": null,
   "metadata": {},
   "outputs": [],
   "source": [
    "T = 10.\n",
    "dt = 0.001\n",
    "K = int(T/dt) + 1\n",
    "prev_error = None\n",
    "sum_error = 0.\n",
    "init = True\n",
    "\n",
    "pin.seed(2)\n",
    "q = pin.randomConfiguration(model)\n",
    "# q = pin.neutral(model)\n",
    "# q = (model.upperPositionLimit - model.lowerPositionLimit) / 2. + model.lowerPositionLimit\n",
    "hp.fk_all(model,data,q)\n",
    "T_start = data.oMf[end_effector].copy()\n",
    "qdot = np.zeros(model.nv)\n",
    "tau = np.zeros(model.nv)\n",
    "\n",
    "\n",
    "\n",
    "T_end = T_start.copy()\n",
    "T_end.translation = T_start.translation + [0.,+0.,0.]\n",
    "T_end.rotation = hp.RotX(-np.pi/2) @ T_start.rotation\n",
    "\n",
    "robot.display(q)\n",
    "time.sleep(1)\n",
    "\n",
    "tau = pin.computeGeneralizedGravity(model,data,q)\n",
    "\n",
    "\n",
    "\n",
    "t = 0\n",
    "k=0\n",
    "\n",
    "for k in range(K):\n",
    "  Twd = get_Twd(T_start, T_end, t, T)\n",
    "\n",
    "  tau = controller(model, data, q, Twd, dt, 10000., 0., 1000.)# + pin.computeGeneralizedGravity(model,data,q)\n",
    "\n",
    "  q , q_dot  = step_world(model, data, q, qdot, tau, dt)\n",
    "\n",
    "  if np.mod(k, 100)==0:\n",
    "    robot.display(q)\n",
    "\n",
    "  t += dt\n",
    "  k +=1\n",
    "  \n",
    "print(compute_error(T_end, data.oMf[end_effector]))\n",
    "\n",
    "\n"
   ]
  },
  {
   "cell_type": "markdown",
   "metadata": {},
   "source": [
    "Simple algorithm"
   ]
  }
 ],
 "metadata": {
  "kernelspec": {
   "display_name": "Python 3 (ipykernel)",
   "language": "python",
   "name": "python3"
  },
  "language_info": {
   "codemirror_mode": {
    "name": "ipython",
    "version": 3
   },
   "file_extension": ".py",
   "mimetype": "text/x-python",
   "name": "python",
   "nbconvert_exporter": "python",
   "pygments_lexer": "ipython3",
   "version": "3.10.12"
  }
 },
 "nbformat": 4,
 "nbformat_minor": 2
}
