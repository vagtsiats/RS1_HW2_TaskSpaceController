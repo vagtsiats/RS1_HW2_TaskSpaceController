{
 "cells": [
  {
   "cell_type": "markdown",
   "metadata": {},
   "source": [
    "Robotic Systems 1 - Homework 2"
   ]
  },
  {
   "cell_type": "code",
   "execution_count": null,
   "metadata": {},
   "outputs": [],
   "source": [
    "import numpy as np # Linear Algebra\n",
    "import pinocchio as pin # Pinocchio library\n",
    "import os\n",
    "\n",
    "from pinocchio.robot_wrapper import RobotWrapper\n",
    "from pinocchio.visualize import MeshcatVisualizer\n",
    "\n",
    "VISUALIZER = MeshcatVisualizer"
   ]
  },
  {
   "cell_type": "code",
   "execution_count": null,
   "metadata": {},
   "outputs": [],
   "source": [
    "def load_franka():\n",
    "  current_path = os.path.abspath('') # where the folder `robot` is located at\n",
    "  robot_path = os.path.join(current_path, \"robot\")\n",
    "\n",
    "  robot = RobotWrapper.BuildFromURDF(os.path.join(robot_path, \"franka.urdf\"), package_dirs = robot_path)\n",
    "\n",
    "  return robot.model"
   ]
  },
  {
   "cell_type": "code",
   "execution_count": null,
   "metadata": {},
   "outputs": [],
   "source": [
    "model = load_franka()\n",
    "data = model.createData()\n",
    "\n"
   ]
  },
  {
   "cell_type": "code",
   "execution_count": null,
   "metadata": {},
   "outputs": [],
   "source": [
    "#cur_state: [q,v]'\n",
    "def step_world(model, data, cur_state, control, dt):\n",
    "  model.nq\n"
   ]
  }
 ],
 "metadata": {
  "kernelspec": {
   "display_name": "Python 3 (ipykernel)",
   "language": "python",
   "name": "python3"
  }
 },
 "nbformat": 4,
 "nbformat_minor": 2
}
