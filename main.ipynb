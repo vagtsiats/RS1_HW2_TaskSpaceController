{
 "cells": [
  {
   "cell_type": "markdown",
   "metadata": {},
   "source": [
    "# Robotic Systems 1 - Homework 2"
   ]
  },
  {
   "cell_type": "markdown",
   "metadata": {},
   "source": [
    "## Modeling"
   ]
  },
  {
   "cell_type": "code",
   "execution_count": 1,
   "metadata": {},
   "outputs": [],
   "source": [
    "import numpy as np # Linear Algebra\n",
    "import pinocchio as pin # Pinocchio library\n",
    "import os\n",
    "import time\n",
    "import helpers as hp\n",
    "import proxsuite\n",
    "import matplotlib.pyplot as plt\n",
    "\n",
    "from pinocchio.robot_wrapper import RobotWrapper\n",
    "from pinocchio.visualize import MeshcatVisualizer\n",
    "\n",
    "VISUALIZER = MeshcatVisualizer"
   ]
  },
  {
   "cell_type": "code",
   "execution_count": 2,
   "metadata": {},
   "outputs": [],
   "source": [
    "def load_franka():\n",
    "  current_path = os.path.abspath('') # where the folder `robot` is located at\n",
    "  robot_path = os.path.join(current_path, \"robot\")\n",
    "\n",
    "  robot = RobotWrapper.BuildFromURDF(os.path.join(robot_path, \"franka.urdf\"), package_dirs = robot_path)\n",
    "\n",
    "  return robot"
   ]
  },
  {
   "cell_type": "code",
   "execution_count": 3,
   "metadata": {},
   "outputs": [],
   "source": [
    "def step_world(model, data, t_q, t_qdot, t_tau, t_dt):\n",
    "  \n",
    "  qdotdot = pin.aba(model, data, t_q, t_qdot, t_tau)\n",
    "  q_dot = t_qdot + qdotdot*t_dt\n",
    "  q_dot = np.clip(q_dot, -model.velocityLimit, model.velocityLimit)\n",
    "  q = pin.integrate(model, t_q, q_dot*t_dt)\n",
    "  q = np.clip(q, model.lowerPositionLimit, model.upperPositionLimit)\n",
    "  \n",
    "  return q, q_dot"
   ]
  },
  {
   "cell_type": "code",
   "execution_count": null,
   "metadata": {},
   "outputs": [],
   "source": [
    "robot = load_franka()\n",
    "\n",
    "model = robot.model\n",
    "data = robot.data\n",
    "end_effector = model.getFrameId(\"panda_ee\")\n",
    "\n",
    "robot.setVisualizer(VISUALIZER())\n",
    "robot.initViewer()\n",
    "robot.loadViewerModel(\"pinocchio\")\n",
    "\n",
    "robot.display(pin.randomConfiguration(model))"
   ]
  },
  {
   "cell_type": "markdown",
   "metadata": {},
   "source": [
    "### Task-Space Trajectories\n",
    "\n",
    "Trajectories were generated in the task space for the end effector to follow\n",
    "\n",
    "- Decoupled trajectory (separate movement for the orientation and the translation) with simple time scaling\n",
    "- The above with third order polynomials for time scaling"
   ]
  },
  {
   "cell_type": "code",
   "execution_count": 5,
   "metadata": {},
   "outputs": [],
   "source": [
    "# def get_Twd(start, goal, t_t, T):\n",
    "#   return pin.SE3.Interpolate(start, goal, min(1, t_t/T))\n",
    "\n",
    "def get_Twd_linear(start, goal, t_t, T):\n",
    "  Twd = pin.SE3.Interpolate(start, goal, min(1, t_t/T))\n",
    "  Twd.translation = hp.interpolate_translation(start.translation, goal.translation, min(1,t_t/T))\n",
    "  return Twd\n",
    "\n",
    "def get_Twd_qubic(start, goal, t_t, T):\n",
    "  s = 3*(t_t/T)**2 -2*(t_t/T)**3\n",
    "  Twd = pin.SE3.Interpolate(start, goal, s)\n",
    "  Twd.translation = hp.interpolate_translation(start.translation, goal.translation, s)\n",
    "  return Twd"
   ]
  },
  {
   "cell_type": "markdown",
   "metadata": {},
   "source": [
    "## Task-Space Controller\n",
    "\n",
    "The implemented controller is a feedback PID controller witch utilizes the robots dynamics equations expressed in the task-space.\n",
    "The error is computed independently for the translation and the orientation of the end effector. Also a regularization task has been included to keep the joints as close to the middle of the operating area as possible.\n"
   ]
  },
  {
   "cell_type": "code",
   "execution_count": 31,
   "metadata": {},
   "outputs": [],
   "source": [
    "def compute_error(Td, Tb):\n",
    "    # print(Td)\n",
    "    # print(Tb)\n",
    "    \n",
    "    error = pin.SE3(1)\n",
    "\n",
    "#   print(error)\n",
    "    rot = pin.log3(Td.rotation @ Tb.rotation.T)\n",
    "    trans = Td.translation - Tb.translation\n",
    "    error = np.hstack((trans,rot))\n",
    "    # print(error)\n",
    "    # print(pin.log(Td * pin.SE3.inverse(Tb)))\n",
    "#   print(\"-----\")\n",
    "\n",
    "    return error\n",
    "\n",
    "    # return error.vector"
   ]
  },
  {
   "cell_type": "code",
   "execution_count": 75,
   "metadata": {},
   "outputs": [],
   "source": [
    "prev_error = None\n",
    "sum_error = 0.\n",
    "init = True\n",
    "\n",
    "\n",
    "\n",
    "def controller(model, data, t_q, t_qdot, t_Twd, t_dt, Kp=100., Ki=1000., Kd= 100.):\n",
    "    global prev_error\n",
    "    global sum_error\n",
    "    global init\n",
    "\n",
    "    pin.crba(model, data, t_q)\n",
    "    pin.nonLinearEffects(model, data, t_q, t_qdot)\n",
    "    J = pin.computeFrameJacobian(model, data, t_q, end_effector, pin.ReferenceFrame.LOCAL_WORLD_ALIGNED)\n",
    "    dJ = pin.getFrameJacobianTimeVariation(model, data, end_effector, pin.ReferenceFrame.LOCAL_WORLD_ALIGNED)\n",
    "    J_Tpinv = hp.damped_pseudoinverse(J.T)\n",
    "    J_pinv = hp.damped_pseudoinverse(J)\n",
    "    \n",
    "\n",
    "    hp.fk_all(model, data, t_q)\n",
    "    Twb = data.oMf[end_effector].copy()\n",
    "    error = compute_error(t_Twd, Twb)\n",
    "\n",
    "    if init:\n",
    "        prev_error = np.copy(error)\n",
    "        init = False\n",
    "\n",
    "    sum_error += (error * t_dt)\n",
    "\n",
    "    Lamda = J_Tpinv @ data.M @ J_pinv\n",
    "    hta = J_Tpinv @ data.nle - Lamda @ dJ @ t_qdot\n",
    "    F_w = Lamda@(Kp*error + Ki*sum_error + Kd*(error-prev_error)/t_dt) + hta\n",
    "    prev_error = np.copy(error)\n",
    "\n",
    "    #Null space controller - regularization\n",
    "    q_target = (model.upperPositionLimit - model.lowerPositionLimit) / 2. + model.lowerPositionLimit\n",
    "    t_reg = 0.1 * (q_target - t_q)\n",
    "    \n",
    "    tau = J.T @ F_w + (np.eye(model.nv) - J.T @ J_Tpinv) @ t_reg\n",
    "\n",
    "    return tau\n",
    "  \n",
    "  "
   ]
  },
  {
   "cell_type": "markdown",
   "metadata": {},
   "source": [
    "## Simulation"
   ]
  },
  {
   "cell_type": "code",
   "execution_count": null,
   "metadata": {},
   "outputs": [],
   "source": [
    "#simulation variables initialization\n",
    "T = 10.\n",
    "dt = 0.001\n",
    "K = int(T/dt) + 1\n",
    "prev_error = None\n",
    "sum_error = 0.\n",
    "init = True\n",
    "t = 0\n",
    "k = 0\n",
    "\n",
    "error_ = []\n",
    "reg_error_ = []\n",
    "q_reg = (model.upperPositionLimit - model.lowerPositionLimit) / 2. + model.lowerPositionLimit\n",
    "\n",
    "q = np.zeros(model.nv)\n",
    "qdot = np.zeros(model.nv)\n",
    "tau = np.zeros(model.nv)\n",
    "\n",
    "pin.seed(3)\n",
    "#1023 null and no null\n",
    "#6,2, \n",
    "#109453\n",
    "\n",
    "#initial configuration\n",
    "q = pin.randomConfiguration(model, model.lowerPositionLimit, model.upperPositionLimit)\n",
    "hp.fk_all(model,data,q)\n",
    "T_start = data.oMf[end_effector].copy()\n",
    "\n",
    "#target configuration \n",
    "# qt = pin.randomConfiguration(model, model.lowerPositionLimit, model.upperPositionLimit)\n",
    "# hp.fk_all(model,data, qt)\n",
    "# T_end = data.oMf[end_effector].copy()\n",
    "# robot.display(qt)#apply the target configuration and display it for 1 sec\n",
    "# time.sleep(1)\n",
    "\n",
    "T_end = T_start.copy()\n",
    "T_end.translation = T_start.translation + [0.,-0.2,-0.3]\n",
    "T_end.rotation = hp.RotZ(-np.pi/2) @  T_start.rotation\n",
    "\n",
    "hp.fk_all(model,data,q)#reapply the initial configuration and display it for 1 sec before the simulation starts\n",
    "robot.display(q)\n",
    "time.sleep(1)\n",
    "\n",
    "for k in range(K):\n",
    "  #get the task-space trajectory\n",
    "  Twd = get_Twd_qubic(T_start, T_end, t, T)\n",
    "\n",
    "  #apply the controller to compute the desired tau\n",
    "  tau = controller(model, data, q, qdot, Twd, dt, 1000., 0., 900.)\n",
    "\n",
    "  #apply the computed tau to the robot's joints\n",
    "  q , qdot  = step_world(model, data, q, qdot, tau, dt)\n",
    "\n",
    "  #visualization\n",
    "  if np.mod(k, 10)==0:\n",
    "    robot.display(q)\n",
    "\n",
    "  error_.append(np.linalg.norm(compute_error(T_end, data.oMf[end_effector])))\n",
    "  reg_error_.append(np.linalg.norm(q_reg-q))\n",
    "\n",
    "  t += dt\n",
    "  k +=1\n",
    "  \n",
    "print(\"Final position error SE(3) matrix:\")\n",
    "print(pin.exp(compute_error(T_end, data.oMf[end_effector])))\n",
    "\n",
    "plt.plot(error_)\n",
    "plt.title(\"Error norm\")\n",
    "plt.xlim([0, K])\n",
    "\n",
    "plt.plot(reg_error_)\n",
    "plt.legend([\"pose error\",\"regularization error\"])\n",
    "plt.xlabel(\"iterations\")\n",
    "plt.xlim([0, K])\n"
   ]
  },
  {
   "cell_type": "code",
   "execution_count": null,
   "metadata": {},
   "outputs": [],
   "source": []
  }
 ],
 "metadata": {
  "kernelspec": {
   "display_name": "robo",
   "language": "python",
   "name": "python3"
  },
  "language_info": {
   "codemirror_mode": {
    "name": "ipython",
    "version": 3
   },
   "file_extension": ".py",
   "mimetype": "text/x-python",
   "name": "python",
   "nbconvert_exporter": "python",
   "pygments_lexer": "ipython3",
   "version": "3.11.0"
  }
 },
 "nbformat": 4,
 "nbformat_minor": 2
}
