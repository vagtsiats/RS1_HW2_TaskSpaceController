{
 "cells": [
  {
   "cell_type": "markdown",
   "metadata": {},
   "source": [
    "Robotic Systems 1 - Homework 2"
   ]
  },
  {
   "cell_type": "code",
   "execution_count": null,
   "metadata": {},
   "outputs": [],
   "source": [
    "import numpy as np # Linear Algebra\n",
    "import pinocchio as pin # Pinocchio library\n",
    "import os\n",
    "\n",
    "from pinocchio.robot_wrapper import RobotWrapper\n",
    "from pinocchio.visualize import MeshcatVisualizer\n",
    "\n",
    "VISUALIZER = MeshcatVisualizer"
   ]
  },
  {
   "cell_type": "code",
   "execution_count": null,
   "metadata": {},
   "outputs": [],
   "source": [
    "def load_franka():\n",
    "  current_path = os.path.abspath('') # where the folder `robot` is located at\n",
    "  robot_path = os.path.join(current_path, \"robot\")\n",
    "\n",
    "  robot = RobotWrapper.BuildFromURDF(os.path.join(robot_path, \"franka.urdf\"), package_dirs = robot_path)\n",
    "\n",
    "  return robot"
   ]
  },
  {
   "cell_type": "code",
   "execution_count": null,
   "metadata": {},
   "outputs": [],
   "source": [
    "# function to compute FK for all frames/joints\n",
    "def fk_all(model, data, q, v = None):\n",
    "    if v is not None:\n",
    "        pin.forwardKinematics(model, data, q, v) # FK and Forward Velocities\n",
    "    else:\n",
    "        pin.forwardKinematics(model, data, q) # FK\n",
    "    pin.updateFramePlacements(model, data) # Update frames"
   ]
  },
  {
   "cell_type": "code",
   "execution_count": null,
   "metadata": {},
   "outputs": [],
   "source": [
    "def step_world(model, data, t_q, t_qdot, t_tau, t_dt):\n",
    "  \n",
    "  qdotdot = pin.aba(model, data, t_q, t_qdot, t_tau)\n",
    "  qdot = t_qdot+ qdotdot*t_dt\n",
    "  q = pin.integrate(model,t_q, qdot*t_dt)\n",
    "  \n",
    "  return q, qdot"
   ]
  },
  {
   "cell_type": "code",
   "execution_count": null,
   "metadata": {},
   "outputs": [],
   "source": [
    "robot = load_franka()\n",
    "\n",
    "model = robot.model\n",
    "data = robot.data\n",
    "\n",
    "robot.setVisualizer(VISUALIZER())\n",
    "robot.initViewer()\n",
    "robot.loadViewerModel(\"pinocchio\")\n",
    "\n",
    "robot.display(pin.randomConfiguration(model))\n"
   ]
  },
  {
   "cell_type": "markdown",
   "metadata": {},
   "source": [
    "# Simulation"
   ]
  },
  {
   "cell_type": "code",
   "execution_count": null,
   "metadata": {},
   "outputs": [],
   "source": [
    "T = 10.\n",
    "dt = 0.01\n",
    "K = int(T/dt) + 1\n",
    "\n",
    "q = pin.randomConfiguration(model)\n",
    "qdot = np.zeros(model.nv)\n",
    "tau = np.zeros(model.nv)\n",
    "end_effector = model.getFrameId(\"panda_ee\")\n",
    "\n",
    "for k in range(K):\n",
    "\n",
    "  q ,_  = step_world(model, data, q, qdot, tau, dt)\n",
    "  robot.display(q)\n",
    "\n",
    "  T_wd = data.oMf[end_effector]\n"
   ]
  },
  {
   "cell_type": "code",
   "execution_count": null,
   "metadata": {},
   "outputs": [],
   "source": [
    "print(model.lowerPositionLimit)\n",
    "print(model.upperPositionLimit)\n",
    "print(model.velocityLimit)"
   ]
  },
  {
   "cell_type": "markdown",
   "metadata": {},
   "source": [
    "## Task-Space Trajectories\n",
    "\n",
    "I should implement 4 different profiles. I decided to do them in 4 different ways. So we have:\n",
    "- Screw Path\n",
    "- Decoupled trajectory\n",
    "- The above with third order polynomials for time scaling\n",
    "\n",
    "\n",
    "Questions:\n",
    "- orientation and translation error should be computed separately in the controller -> straight lines in the task space (not on the SO3 manifold) but what if the trajectory is computed on the manifold? (screw path(on the SO3 manifold) and decoupled rot and trans)"
   ]
  },
  {
   "cell_type": "code",
   "execution_count": null,
   "metadata": {},
   "outputs": [],
   "source": [
    "# A = pin.SE3.Identity()\n",
    "A = pin.SE3.Identity()\n",
    "B = pin.SE3.Random()\n",
    "\n",
    "M = pin.SE3.Interpolate(A,B,0.5)\n",
    "print(M)\n",
    "\n",
    "# this is the same as pin.SE3.Interpolate()\n",
    "def interpolate_rotation(A, B, s): \n",
    "  return pin.exp(pin.log(A.inverse()*B)*s)\n",
    "\n",
    "# translation Position decoupling\n",
    "def interpolate_translation(start,goal,s):\n",
    "  return start + s*(goal-start)\n",
    "\n",
    "p = interpolate_translation(A.translation,B.translation,0.5)\n",
    "\n",
    "print(p)\n",
    "M.translation = p\n",
    "print(M)"
   ]
  },
  {
   "cell_type": "code",
   "execution_count": null,
   "metadata": {},
   "outputs": [],
   "source": [
    "\n",
    "def get_Twd(start, goal, time, T):\n",
    "  return pin.SE3.Interpolate(start, goal, max(1, time/T))"
   ]
  },
  {
   "cell_type": "markdown",
   "metadata": {},
   "source": [
    "# Task-Space Controller"
   ]
  },
  {
   "cell_type": "code",
   "execution_count": null,
   "metadata": {},
   "outputs": [],
   "source": []
  }
 ],
 "metadata": {
  "kernelspec": {
   "display_name": "Python 3 (ipykernel)",
   "language": "python",
   "name": "python3"
  },
  "language_info": {
   "codemirror_mode": {
    "name": "ipython",
    "version": 3
   },
   "file_extension": ".py",
   "mimetype": "text/x-python",
   "name": "python",
   "nbconvert_exporter": "python",
   "pygments_lexer": "ipython3",
   "version": "3.10.12"
  }
 },
 "nbformat": 4,
 "nbformat_minor": 2
}
